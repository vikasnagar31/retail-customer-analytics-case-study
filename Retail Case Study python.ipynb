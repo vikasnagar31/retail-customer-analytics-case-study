{
 "cells": [
  {
   "cell_type": "markdown",
   "id": "5a84ca85-83fb-4b96-b00a-11059be5c139",
   "metadata": {},
   "source": [
    "# Retail Case Study Python"
   ]
  },
  {
   "cell_type": "code",
   "execution_count": 37,
   "id": "5a534826-46d7-443e-adbf-0e38bf3635a9",
   "metadata": {},
   "outputs": [],
   "source": [
    "import pandas as pd \n",
    "import numpy as np"
   ]
  },
  {
   "cell_type": "code",
   "execution_count": 38,
   "id": "40b7dda8-49a7-4165-abec-e7c014e71a9f",
   "metadata": {},
   "outputs": [],
   "source": [
    "cust=pd.read_csv('Customer.csv')\n",
    "prod=pd.read_csv('prod_cat_info.csv')\n",
    "tran=pd.read_csv('Transactions.csv',parse_dates=True)"
   ]
  },
  {
   "cell_type": "code",
   "execution_count": 39,
   "id": "f53d1c37-a191-4fd6-84ff-47285e3065ba",
   "metadata": {},
   "outputs": [
    {
     "data": {
      "text/html": [
       "<div>\n",
       "<style scoped>\n",
       "    .dataframe tbody tr th:only-of-type {\n",
       "        vertical-align: middle;\n",
       "    }\n",
       "\n",
       "    .dataframe tbody tr th {\n",
       "        vertical-align: top;\n",
       "    }\n",
       "\n",
       "    .dataframe thead th {\n",
       "        text-align: right;\n",
       "    }\n",
       "</style>\n",
       "<table border=\"1\" class=\"dataframe\">\n",
       "  <thead>\n",
       "    <tr style=\"text-align: right;\">\n",
       "      <th></th>\n",
       "      <th>customer_Id</th>\n",
       "      <th>DOB</th>\n",
       "      <th>Gender</th>\n",
       "      <th>city_code</th>\n",
       "    </tr>\n",
       "  </thead>\n",
       "  <tbody>\n",
       "    <tr>\n",
       "      <th>0</th>\n",
       "      <td>268408</td>\n",
       "      <td>02-01-1970</td>\n",
       "      <td>M</td>\n",
       "      <td>4.0</td>\n",
       "    </tr>\n",
       "    <tr>\n",
       "      <th>1</th>\n",
       "      <td>269696</td>\n",
       "      <td>07-01-1970</td>\n",
       "      <td>F</td>\n",
       "      <td>8.0</td>\n",
       "    </tr>\n",
       "    <tr>\n",
       "      <th>2</th>\n",
       "      <td>268159</td>\n",
       "      <td>08-01-1970</td>\n",
       "      <td>F</td>\n",
       "      <td>8.0</td>\n",
       "    </tr>\n",
       "    <tr>\n",
       "      <th>3</th>\n",
       "      <td>270181</td>\n",
       "      <td>10-01-1970</td>\n",
       "      <td>F</td>\n",
       "      <td>2.0</td>\n",
       "    </tr>\n",
       "    <tr>\n",
       "      <th>4</th>\n",
       "      <td>268073</td>\n",
       "      <td>11-01-1970</td>\n",
       "      <td>M</td>\n",
       "      <td>1.0</td>\n",
       "    </tr>\n",
       "  </tbody>\n",
       "</table>\n",
       "</div>"
      ],
      "text/plain": [
       "   customer_Id         DOB Gender  city_code\n",
       "0       268408  02-01-1970      M        4.0\n",
       "1       269696  07-01-1970      F        8.0\n",
       "2       268159  08-01-1970      F        8.0\n",
       "3       270181  10-01-1970      F        2.0\n",
       "4       268073  11-01-1970      M        1.0"
      ]
     },
     "metadata": {},
     "output_type": "display_data"
    },
    {
     "data": {
      "text/html": [
       "<div>\n",
       "<style scoped>\n",
       "    .dataframe tbody tr th:only-of-type {\n",
       "        vertical-align: middle;\n",
       "    }\n",
       "\n",
       "    .dataframe tbody tr th {\n",
       "        vertical-align: top;\n",
       "    }\n",
       "\n",
       "    .dataframe thead th {\n",
       "        text-align: right;\n",
       "    }\n",
       "</style>\n",
       "<table border=\"1\" class=\"dataframe\">\n",
       "  <thead>\n",
       "    <tr style=\"text-align: right;\">\n",
       "      <th></th>\n",
       "      <th>transaction_id</th>\n",
       "      <th>cust_id</th>\n",
       "      <th>tran_date</th>\n",
       "      <th>prod_subcat_code</th>\n",
       "      <th>prod_cat_code</th>\n",
       "      <th>Qty</th>\n",
       "      <th>Rate</th>\n",
       "      <th>Tax</th>\n",
       "      <th>total_amt</th>\n",
       "      <th>Store_type</th>\n",
       "    </tr>\n",
       "  </thead>\n",
       "  <tbody>\n",
       "    <tr>\n",
       "      <th>0</th>\n",
       "      <td>80712190438</td>\n",
       "      <td>270351</td>\n",
       "      <td>28-02-2014</td>\n",
       "      <td>1</td>\n",
       "      <td>1</td>\n",
       "      <td>-5</td>\n",
       "      <td>-772</td>\n",
       "      <td>405.300</td>\n",
       "      <td>-4265.300</td>\n",
       "      <td>e-Shop</td>\n",
       "    </tr>\n",
       "    <tr>\n",
       "      <th>1</th>\n",
       "      <td>29258453508</td>\n",
       "      <td>270384</td>\n",
       "      <td>27-02-2014</td>\n",
       "      <td>5</td>\n",
       "      <td>3</td>\n",
       "      <td>-5</td>\n",
       "      <td>-1497</td>\n",
       "      <td>785.925</td>\n",
       "      <td>-8270.925</td>\n",
       "      <td>e-Shop</td>\n",
       "    </tr>\n",
       "    <tr>\n",
       "      <th>2</th>\n",
       "      <td>51750724947</td>\n",
       "      <td>273420</td>\n",
       "      <td>24-02-2014</td>\n",
       "      <td>6</td>\n",
       "      <td>5</td>\n",
       "      <td>-2</td>\n",
       "      <td>-791</td>\n",
       "      <td>166.110</td>\n",
       "      <td>-1748.110</td>\n",
       "      <td>TeleShop</td>\n",
       "    </tr>\n",
       "    <tr>\n",
       "      <th>3</th>\n",
       "      <td>93274880719</td>\n",
       "      <td>271509</td>\n",
       "      <td>24-02-2014</td>\n",
       "      <td>11</td>\n",
       "      <td>6</td>\n",
       "      <td>-3</td>\n",
       "      <td>-1363</td>\n",
       "      <td>429.345</td>\n",
       "      <td>-4518.345</td>\n",
       "      <td>e-Shop</td>\n",
       "    </tr>\n",
       "    <tr>\n",
       "      <th>4</th>\n",
       "      <td>51750724947</td>\n",
       "      <td>273420</td>\n",
       "      <td>23-02-2014</td>\n",
       "      <td>6</td>\n",
       "      <td>5</td>\n",
       "      <td>-2</td>\n",
       "      <td>-791</td>\n",
       "      <td>166.110</td>\n",
       "      <td>-1748.110</td>\n",
       "      <td>TeleShop</td>\n",
       "    </tr>\n",
       "  </tbody>\n",
       "</table>\n",
       "</div>"
      ],
      "text/plain": [
       "   transaction_id  cust_id   tran_date  prod_subcat_code  prod_cat_code  Qty  \\\n",
       "0     80712190438   270351  28-02-2014                 1              1   -5   \n",
       "1     29258453508   270384  27-02-2014                 5              3   -5   \n",
       "2     51750724947   273420  24-02-2014                 6              5   -2   \n",
       "3     93274880719   271509  24-02-2014                11              6   -3   \n",
       "4     51750724947   273420  23-02-2014                 6              5   -2   \n",
       "\n",
       "   Rate      Tax  total_amt Store_type  \n",
       "0  -772  405.300  -4265.300     e-Shop  \n",
       "1 -1497  785.925  -8270.925     e-Shop  \n",
       "2  -791  166.110  -1748.110   TeleShop  \n",
       "3 -1363  429.345  -4518.345     e-Shop  \n",
       "4  -791  166.110  -1748.110   TeleShop  "
      ]
     },
     "metadata": {},
     "output_type": "display_data"
    },
    {
     "data": {
      "text/html": [
       "<div>\n",
       "<style scoped>\n",
       "    .dataframe tbody tr th:only-of-type {\n",
       "        vertical-align: middle;\n",
       "    }\n",
       "\n",
       "    .dataframe tbody tr th {\n",
       "        vertical-align: top;\n",
       "    }\n",
       "\n",
       "    .dataframe thead th {\n",
       "        text-align: right;\n",
       "    }\n",
       "</style>\n",
       "<table border=\"1\" class=\"dataframe\">\n",
       "  <thead>\n",
       "    <tr style=\"text-align: right;\">\n",
       "      <th></th>\n",
       "      <th>prod_cat_code</th>\n",
       "      <th>prod_cat</th>\n",
       "      <th>prod_sub_cat_code</th>\n",
       "      <th>prod_subcat</th>\n",
       "    </tr>\n",
       "  </thead>\n",
       "  <tbody>\n",
       "    <tr>\n",
       "      <th>0</th>\n",
       "      <td>1</td>\n",
       "      <td>Clothing</td>\n",
       "      <td>4</td>\n",
       "      <td>Mens</td>\n",
       "    </tr>\n",
       "    <tr>\n",
       "      <th>1</th>\n",
       "      <td>1</td>\n",
       "      <td>Clothing</td>\n",
       "      <td>1</td>\n",
       "      <td>Women</td>\n",
       "    </tr>\n",
       "    <tr>\n",
       "      <th>2</th>\n",
       "      <td>1</td>\n",
       "      <td>Clothing</td>\n",
       "      <td>3</td>\n",
       "      <td>Kids</td>\n",
       "    </tr>\n",
       "    <tr>\n",
       "      <th>3</th>\n",
       "      <td>2</td>\n",
       "      <td>Footwear</td>\n",
       "      <td>1</td>\n",
       "      <td>Mens</td>\n",
       "    </tr>\n",
       "    <tr>\n",
       "      <th>4</th>\n",
       "      <td>2</td>\n",
       "      <td>Footwear</td>\n",
       "      <td>3</td>\n",
       "      <td>Women</td>\n",
       "    </tr>\n",
       "  </tbody>\n",
       "</table>\n",
       "</div>"
      ],
      "text/plain": [
       "   prod_cat_code  prod_cat  prod_sub_cat_code prod_subcat\n",
       "0              1  Clothing                  4        Mens\n",
       "1              1  Clothing                  1       Women\n",
       "2              1  Clothing                  3        Kids\n",
       "3              2  Footwear                  1        Mens\n",
       "4              2  Footwear                  3       Women"
      ]
     },
     "metadata": {},
     "output_type": "display_data"
    }
   ],
   "source": [
    "display(cust.head(5))\n",
    "display(tran.head(5))\n",
    "display(prod.head(5))"
   ]
  },
  {
   "cell_type": "code",
   "execution_count": 40,
   "id": "8421b1ed-32f5-4531-b330-e488e59a75a1",
   "metadata": {},
   "outputs": [
    {
     "name": "stdout",
     "output_type": "stream",
     "text": [
      "<class 'pandas.core.frame.DataFrame'>\n",
      "RangeIndex: 5647 entries, 0 to 5646\n",
      "Data columns (total 4 columns):\n",
      " #   Column       Non-Null Count  Dtype  \n",
      "---  ------       --------------  -----  \n",
      " 0   customer_Id  5647 non-null   int64  \n",
      " 1   DOB          5647 non-null   object \n",
      " 2   Gender       5645 non-null   object \n",
      " 3   city_code    5645 non-null   float64\n",
      "dtypes: float64(1), int64(1), object(2)\n",
      "memory usage: 176.6+ KB\n"
     ]
    }
   ],
   "source": [
    "cust.info()    #here dob is not stored is correct format"
   ]
  },
  {
   "cell_type": "code",
   "execution_count": 41,
   "id": "72352c66-1370-483e-91d0-dd9470174d30",
   "metadata": {},
   "outputs": [],
   "source": [
    "cust['DOB']=pd.to_datetime(cust['DOB'],format='mixed',errors='coerce')"
   ]
  },
  {
   "cell_type": "code",
   "execution_count": 42,
   "id": "6a14f508-6376-4ed7-8ab4-c1dd7ab36ae2",
   "metadata": {},
   "outputs": [
    {
     "name": "stdout",
     "output_type": "stream",
     "text": [
      "<class 'pandas.core.frame.DataFrame'>\n",
      "RangeIndex: 23053 entries, 0 to 23052\n",
      "Data columns (total 10 columns):\n",
      " #   Column            Non-Null Count  Dtype  \n",
      "---  ------            --------------  -----  \n",
      " 0   transaction_id    23053 non-null  int64  \n",
      " 1   cust_id           23053 non-null  int64  \n",
      " 2   tran_date         23053 non-null  object \n",
      " 3   prod_subcat_code  23053 non-null  int64  \n",
      " 4   prod_cat_code     23053 non-null  int64  \n",
      " 5   Qty               23053 non-null  int64  \n",
      " 6   Rate              23053 non-null  int64  \n",
      " 7   Tax               23053 non-null  float64\n",
      " 8   total_amt         23053 non-null  float64\n",
      " 9   Store_type        23053 non-null  object \n",
      "dtypes: float64(2), int64(6), object(2)\n",
      "memory usage: 1.8+ MB\n"
     ]
    }
   ],
   "source": [
    "tran.info()  # #here tran_date is not stored is correct format"
   ]
  },
  {
   "cell_type": "code",
   "execution_count": 43,
   "id": "192318ef-5812-4f77-b5a4-0dc31bfc61d4",
   "metadata": {},
   "outputs": [],
   "source": [
    "tran['tran_date']=pd.to_datetime(tran['tran_date'],format='mixed',errors='coerce')"
   ]
  },
  {
   "cell_type": "code",
   "execution_count": 44,
   "id": "0206c299-4b74-426f-8293-4d279b4c477c",
   "metadata": {},
   "outputs": [
    {
     "name": "stdout",
     "output_type": "stream",
     "text": [
      "<class 'pandas.core.frame.DataFrame'>\n",
      "RangeIndex: 23 entries, 0 to 22\n",
      "Data columns (total 4 columns):\n",
      " #   Column             Non-Null Count  Dtype \n",
      "---  ------             --------------  ----- \n",
      " 0   prod_cat_code      23 non-null     int64 \n",
      " 1   prod_cat           23 non-null     object\n",
      " 2   prod_sub_cat_code  23 non-null     int64 \n",
      " 3   prod_subcat        23 non-null     object\n",
      "dtypes: int64(2), object(2)\n",
      "memory usage: 868.0+ bytes\n"
     ]
    }
   ],
   "source": [
    "prod.info()"
   ]
  },
  {
   "cell_type": "code",
   "execution_count": 45,
   "id": "8d383854-b2b2-434c-92cd-d2a9efe08f61",
   "metadata": {},
   "outputs": [
    {
     "data": {
      "text/plain": [
       "((5647, 4), (23053, 10), (23, 4))"
      ]
     },
     "execution_count": 45,
     "metadata": {},
     "output_type": "execute_result"
    }
   ],
   "source": [
    "cust.shape,tran.shape,prod.shape"
   ]
  },
  {
   "cell_type": "code",
   "execution_count": 46,
   "id": "97556c8f-ac2c-4310-a43b-1cf2c949f0a3",
   "metadata": {},
   "outputs": [
    {
     "data": {
      "text/plain": [
       "141"
      ]
     },
     "execution_count": 46,
     "metadata": {},
     "output_type": "execute_result"
    }
   ],
   "source": [
    "#customer_id's that are in customers but not in transactions\n",
    "missing_cust_ids_in_cust = cust[~( cust['customer_Id'].isin(tran['cust_id']))]\n",
    "missing_cust_ids_in_cust['customer_Id'].shape[0]\n",
    "\n",
    "#it means 141 customers are there who are registered but not made any transactions"
   ]
  },
  {
   "cell_type": "code",
   "execution_count": 47,
   "id": "4bb9fff3-558e-4ac0-ae4a-26be9b251f6a",
   "metadata": {},
   "outputs": [
    {
     "data": {
      "text/plain": [
       "0"
      ]
     },
     "execution_count": 47,
     "metadata": {},
     "output_type": "execute_result"
    }
   ],
   "source": [
    "#customer_id's that are in transactions but not in customer\n",
    "missing_cust_ids_in_tran = tran[~( tran['cust_id'].isin(cust['customer_Id']))]\n",
    "missing_cust_ids_in_tran['cust_id'].shape[0]\n",
    "\n",
    "#it means all custoers that are in transactions are present in cusotmer table "
   ]
  },
  {
   "cell_type": "raw",
   "id": "9cf9c8aa-c4eb-4883-b768-4a8902af9435",
   "metadata": {},
   "source": [
    "1. Merge the datasets Customers, Product Hierarchy and Transactions as Customer_Final. Ensure to\n",
    "keep all customers who have done transactions with us and select the join type accordingly "
   ]
  },
  {
   "cell_type": "code",
   "execution_count": 48,
   "id": "ebecd6db-b182-4dca-a05e-a3481f7940db",
   "metadata": {},
   "outputs": [
    {
     "data": {
      "text/html": [
       "<div>\n",
       "<style scoped>\n",
       "    .dataframe tbody tr th:only-of-type {\n",
       "        vertical-align: middle;\n",
       "    }\n",
       "\n",
       "    .dataframe tbody tr th {\n",
       "        vertical-align: top;\n",
       "    }\n",
       "\n",
       "    .dataframe thead th {\n",
       "        text-align: right;\n",
       "    }\n",
       "</style>\n",
       "<table border=\"1\" class=\"dataframe\">\n",
       "  <thead>\n",
       "    <tr style=\"text-align: right;\">\n",
       "      <th></th>\n",
       "      <th>transaction_id</th>\n",
       "      <th>cust_id</th>\n",
       "      <th>tran_date</th>\n",
       "      <th>prod_subcat_code</th>\n",
       "      <th>prod_cat_code</th>\n",
       "      <th>Qty</th>\n",
       "      <th>Rate</th>\n",
       "      <th>Tax</th>\n",
       "      <th>total_amt</th>\n",
       "      <th>Store_type</th>\n",
       "      <th>customer_Id</th>\n",
       "      <th>DOB</th>\n",
       "      <th>Gender</th>\n",
       "      <th>city_code</th>\n",
       "      <th>prod_cat</th>\n",
       "      <th>prod_sub_cat_code</th>\n",
       "      <th>prod_subcat</th>\n",
       "    </tr>\n",
       "  </thead>\n",
       "  <tbody>\n",
       "    <tr>\n",
       "      <th>0</th>\n",
       "      <td>80712190438</td>\n",
       "      <td>270351</td>\n",
       "      <td>2014-02-28</td>\n",
       "      <td>1</td>\n",
       "      <td>1</td>\n",
       "      <td>-5</td>\n",
       "      <td>-772</td>\n",
       "      <td>405.300</td>\n",
       "      <td>-4265.300</td>\n",
       "      <td>e-Shop</td>\n",
       "      <td>270351</td>\n",
       "      <td>1981-09-26</td>\n",
       "      <td>M</td>\n",
       "      <td>5.0</td>\n",
       "      <td>Clothing</td>\n",
       "      <td>1</td>\n",
       "      <td>Women</td>\n",
       "    </tr>\n",
       "    <tr>\n",
       "      <th>1</th>\n",
       "      <td>29258453508</td>\n",
       "      <td>270384</td>\n",
       "      <td>2014-02-27</td>\n",
       "      <td>5</td>\n",
       "      <td>3</td>\n",
       "      <td>-5</td>\n",
       "      <td>-1497</td>\n",
       "      <td>785.925</td>\n",
       "      <td>-8270.925</td>\n",
       "      <td>e-Shop</td>\n",
       "      <td>270384</td>\n",
       "      <td>1973-11-05</td>\n",
       "      <td>F</td>\n",
       "      <td>8.0</td>\n",
       "      <td>Electronics</td>\n",
       "      <td>5</td>\n",
       "      <td>Computers</td>\n",
       "    </tr>\n",
       "    <tr>\n",
       "      <th>2</th>\n",
       "      <td>51750724947</td>\n",
       "      <td>273420</td>\n",
       "      <td>2014-02-24</td>\n",
       "      <td>6</td>\n",
       "      <td>5</td>\n",
       "      <td>-2</td>\n",
       "      <td>-791</td>\n",
       "      <td>166.110</td>\n",
       "      <td>-1748.110</td>\n",
       "      <td>TeleShop</td>\n",
       "      <td>273420</td>\n",
       "      <td>1992-07-27</td>\n",
       "      <td>M</td>\n",
       "      <td>8.0</td>\n",
       "      <td>Books</td>\n",
       "      <td>6</td>\n",
       "      <td>DIY</td>\n",
       "    </tr>\n",
       "    <tr>\n",
       "      <th>3</th>\n",
       "      <td>93274880719</td>\n",
       "      <td>271509</td>\n",
       "      <td>2014-02-24</td>\n",
       "      <td>11</td>\n",
       "      <td>6</td>\n",
       "      <td>-3</td>\n",
       "      <td>-1363</td>\n",
       "      <td>429.345</td>\n",
       "      <td>-4518.345</td>\n",
       "      <td>e-Shop</td>\n",
       "      <td>271509</td>\n",
       "      <td>1981-08-06</td>\n",
       "      <td>M</td>\n",
       "      <td>3.0</td>\n",
       "      <td>Home and kitchen</td>\n",
       "      <td>11</td>\n",
       "      <td>Bath</td>\n",
       "    </tr>\n",
       "    <tr>\n",
       "      <th>4</th>\n",
       "      <td>51750724947</td>\n",
       "      <td>273420</td>\n",
       "      <td>2014-02-23</td>\n",
       "      <td>6</td>\n",
       "      <td>5</td>\n",
       "      <td>-2</td>\n",
       "      <td>-791</td>\n",
       "      <td>166.110</td>\n",
       "      <td>-1748.110</td>\n",
       "      <td>TeleShop</td>\n",
       "      <td>273420</td>\n",
       "      <td>1992-07-27</td>\n",
       "      <td>M</td>\n",
       "      <td>8.0</td>\n",
       "      <td>Books</td>\n",
       "      <td>6</td>\n",
       "      <td>DIY</td>\n",
       "    </tr>\n",
       "  </tbody>\n",
       "</table>\n",
       "</div>"
      ],
      "text/plain": [
       "   transaction_id  cust_id  tran_date  prod_subcat_code  prod_cat_code  Qty  \\\n",
       "0     80712190438   270351 2014-02-28                 1              1   -5   \n",
       "1     29258453508   270384 2014-02-27                 5              3   -5   \n",
       "2     51750724947   273420 2014-02-24                 6              5   -2   \n",
       "3     93274880719   271509 2014-02-24                11              6   -3   \n",
       "4     51750724947   273420 2014-02-23                 6              5   -2   \n",
       "\n",
       "   Rate      Tax  total_amt Store_type  customer_Id        DOB Gender  \\\n",
       "0  -772  405.300  -4265.300     e-Shop       270351 1981-09-26      M   \n",
       "1 -1497  785.925  -8270.925     e-Shop       270384 1973-11-05      F   \n",
       "2  -791  166.110  -1748.110   TeleShop       273420 1992-07-27      M   \n",
       "3 -1363  429.345  -4518.345     e-Shop       271509 1981-08-06      M   \n",
       "4  -791  166.110  -1748.110   TeleShop       273420 1992-07-27      M   \n",
       "\n",
       "   city_code          prod_cat  prod_sub_cat_code prod_subcat  \n",
       "0        5.0          Clothing                  1       Women  \n",
       "1        8.0       Electronics                  5   Computers  \n",
       "2        8.0             Books                  6         DIY  \n",
       "3        3.0  Home and kitchen                 11        Bath  \n",
       "4        8.0             Books                  6         DIY  "
      ]
     },
     "execution_count": 48,
     "metadata": {},
     "output_type": "execute_result"
    }
   ],
   "source": [
    "cust_tran=pd.merge(tran,cust,how='inner',left_on='cust_id',right_on='customer_Id') ## Ensures only customers with transactions are included\n",
    "data=pd.merge(cust_tran,prod,left_on=['prod_cat_code','prod_subcat_code'],right_on=['prod_cat_code','prod_sub_cat_code'],how='inner')# Ensures matching products only\n",
    "data.head()"
   ]
  },
  {
   "cell_type": "code",
   "execution_count": 49,
   "id": "a82dc4dc-e9d2-46d2-8934-f89e426f4d47",
   "metadata": {},
   "outputs": [
    {
     "name": "stdout",
     "output_type": "stream",
     "text": [
      "True\n",
      "True\n"
     ]
    }
   ],
   "source": [
    "# Step 1: Compare suspected duplicates\n",
    "print((data['cust_id'] == data['customer_Id']).all())\n",
    "print((data['prod_subcat_code'] == data['prod_sub_cat_code']).all())\n",
    "\n",
    "# Step 2: Drop duplicate columns if values are identical\n",
    "data.drop(columns=['customer_Id', 'prod_sub_cat_code'], inplace=True)\n"
   ]
  },
  {
   "cell_type": "code",
   "execution_count": 50,
   "id": "97230a90-ac67-47b8-9af3-cf574c93184d",
   "metadata": {},
   "outputs": [
    {
     "data": {
      "text/html": [
       "<div>\n",
       "<style scoped>\n",
       "    .dataframe tbody tr th:only-of-type {\n",
       "        vertical-align: middle;\n",
       "    }\n",
       "\n",
       "    .dataframe tbody tr th {\n",
       "        vertical-align: top;\n",
       "    }\n",
       "\n",
       "    .dataframe thead th {\n",
       "        text-align: right;\n",
       "    }\n",
       "</style>\n",
       "<table border=\"1\" class=\"dataframe\">\n",
       "  <thead>\n",
       "    <tr style=\"text-align: right;\">\n",
       "      <th></th>\n",
       "      <th>transaction_id</th>\n",
       "      <th>tran_date</th>\n",
       "      <th>cust_id</th>\n",
       "      <th>DOB</th>\n",
       "      <th>Gender</th>\n",
       "      <th>city_code</th>\n",
       "      <th>prod_cat_code</th>\n",
       "      <th>prod_cat</th>\n",
       "      <th>prod_subcat_code</th>\n",
       "      <th>prod_subcat</th>\n",
       "      <th>Qty</th>\n",
       "      <th>Rate</th>\n",
       "      <th>Tax</th>\n",
       "      <th>total_amt</th>\n",
       "      <th>Store_type</th>\n",
       "    </tr>\n",
       "  </thead>\n",
       "  <tbody>\n",
       "    <tr>\n",
       "      <th>0</th>\n",
       "      <td>80712190438</td>\n",
       "      <td>2014-02-28</td>\n",
       "      <td>270351</td>\n",
       "      <td>1981-09-26</td>\n",
       "      <td>M</td>\n",
       "      <td>5.0</td>\n",
       "      <td>1</td>\n",
       "      <td>Clothing</td>\n",
       "      <td>1</td>\n",
       "      <td>Women</td>\n",
       "      <td>-5</td>\n",
       "      <td>-772</td>\n",
       "      <td>405.300</td>\n",
       "      <td>-4265.300</td>\n",
       "      <td>e-Shop</td>\n",
       "    </tr>\n",
       "    <tr>\n",
       "      <th>1</th>\n",
       "      <td>29258453508</td>\n",
       "      <td>2014-02-27</td>\n",
       "      <td>270384</td>\n",
       "      <td>1973-11-05</td>\n",
       "      <td>F</td>\n",
       "      <td>8.0</td>\n",
       "      <td>3</td>\n",
       "      <td>Electronics</td>\n",
       "      <td>5</td>\n",
       "      <td>Computers</td>\n",
       "      <td>-5</td>\n",
       "      <td>-1497</td>\n",
       "      <td>785.925</td>\n",
       "      <td>-8270.925</td>\n",
       "      <td>e-Shop</td>\n",
       "    </tr>\n",
       "    <tr>\n",
       "      <th>2</th>\n",
       "      <td>51750724947</td>\n",
       "      <td>2014-02-24</td>\n",
       "      <td>273420</td>\n",
       "      <td>1992-07-27</td>\n",
       "      <td>M</td>\n",
       "      <td>8.0</td>\n",
       "      <td>5</td>\n",
       "      <td>Books</td>\n",
       "      <td>6</td>\n",
       "      <td>DIY</td>\n",
       "      <td>-2</td>\n",
       "      <td>-791</td>\n",
       "      <td>166.110</td>\n",
       "      <td>-1748.110</td>\n",
       "      <td>TeleShop</td>\n",
       "    </tr>\n",
       "    <tr>\n",
       "      <th>3</th>\n",
       "      <td>93274880719</td>\n",
       "      <td>2014-02-24</td>\n",
       "      <td>271509</td>\n",
       "      <td>1981-08-06</td>\n",
       "      <td>M</td>\n",
       "      <td>3.0</td>\n",
       "      <td>6</td>\n",
       "      <td>Home and kitchen</td>\n",
       "      <td>11</td>\n",
       "      <td>Bath</td>\n",
       "      <td>-3</td>\n",
       "      <td>-1363</td>\n",
       "      <td>429.345</td>\n",
       "      <td>-4518.345</td>\n",
       "      <td>e-Shop</td>\n",
       "    </tr>\n",
       "    <tr>\n",
       "      <th>4</th>\n",
       "      <td>51750724947</td>\n",
       "      <td>2014-02-23</td>\n",
       "      <td>273420</td>\n",
       "      <td>1992-07-27</td>\n",
       "      <td>M</td>\n",
       "      <td>8.0</td>\n",
       "      <td>5</td>\n",
       "      <td>Books</td>\n",
       "      <td>6</td>\n",
       "      <td>DIY</td>\n",
       "      <td>-2</td>\n",
       "      <td>-791</td>\n",
       "      <td>166.110</td>\n",
       "      <td>-1748.110</td>\n",
       "      <td>TeleShop</td>\n",
       "    </tr>\n",
       "  </tbody>\n",
       "</table>\n",
       "</div>"
      ],
      "text/plain": [
       "   transaction_id  tran_date  cust_id        DOB Gender  city_code  \\\n",
       "0     80712190438 2014-02-28   270351 1981-09-26      M        5.0   \n",
       "1     29258453508 2014-02-27   270384 1973-11-05      F        8.0   \n",
       "2     51750724947 2014-02-24   273420 1992-07-27      M        8.0   \n",
       "3     93274880719 2014-02-24   271509 1981-08-06      M        3.0   \n",
       "4     51750724947 2014-02-23   273420 1992-07-27      M        8.0   \n",
       "\n",
       "   prod_cat_code          prod_cat  prod_subcat_code prod_subcat  Qty  Rate  \\\n",
       "0              1          Clothing                 1       Women   -5  -772   \n",
       "1              3       Electronics                 5   Computers   -5 -1497   \n",
       "2              5             Books                 6         DIY   -2  -791   \n",
       "3              6  Home and kitchen                11        Bath   -3 -1363   \n",
       "4              5             Books                 6         DIY   -2  -791   \n",
       "\n",
       "       Tax  total_amt Store_type  \n",
       "0  405.300  -4265.300     e-Shop  \n",
       "1  785.925  -8270.925     e-Shop  \n",
       "2  166.110  -1748.110   TeleShop  \n",
       "3  429.345  -4518.345     e-Shop  \n",
       "4  166.110  -1748.110   TeleShop  "
      ]
     },
     "execution_count": 50,
     "metadata": {},
     "output_type": "execute_result"
    }
   ],
   "source": [
    "# rearrangement of data\n",
    "new_order = [\n",
    "                'transaction_id', 'tran_date',\n",
    "                'cust_id', 'DOB', 'Gender', 'city_code',\n",
    "                'prod_cat_code', 'prod_cat', 'prod_subcat_code', 'prod_subcat',\n",
    "                'Qty', 'Rate', 'Tax', 'total_amt', 'Store_type'\n",
    "]\n",
    "data = data[new_order]\n",
    "data.head()"
   ]
  },
  {
   "cell_type": "code",
   "execution_count": 51,
   "id": "625e3a1c-3fad-4457-b4e6-3fd53e592a97",
   "metadata": {},
   "outputs": [
    {
     "data": {
      "text/plain": [
       "(23053, 15)"
      ]
     },
     "execution_count": 51,
     "metadata": {},
     "output_type": "execute_result"
    }
   ],
   "source": [
    "data.shape"
   ]
  },
  {
   "cell_type": "raw",
   "id": "95c24a75-4208-4e37-8d85-ef821d138770",
   "metadata": {},
   "source": [
    "2. Prepare a summary report for the merged data set.\n",
    " a. Get the column names and their corresponding data types\n",
    " b. Top/Bottom 10 observations\n",
    " c. “Five-number summary” for continuous variables (min, Q1, median, Q3 and max)\n",
    " d. Frequency tables for all the categorical variables"
   ]
  },
  {
   "cell_type": "code",
   "execution_count": 52,
   "id": "dce5ba7d-a868-4cee-b053-3a7543d417ec",
   "metadata": {},
   "outputs": [
    {
     "name": "stdout",
     "output_type": "stream",
     "text": [
      " a. column names and their corresponding data types \n",
      " \n",
      " transaction_id               int64\n",
      "tran_date           datetime64[ns]\n",
      "cust_id                      int64\n",
      "DOB                 datetime64[ns]\n",
      "Gender                      object\n",
      "city_code                  float64\n",
      "prod_cat_code                int64\n",
      "prod_cat                    object\n",
      "prod_subcat_code             int64\n",
      "prod_subcat                 object\n",
      "Qty                          int64\n",
      "Rate                         int64\n",
      "Tax                        float64\n",
      "total_amt                  float64\n",
      "Store_type                  object\n",
      "dtype: object\n"
     ]
    }
   ],
   "source": [
    "print(' a. column names and their corresponding data types \\n \\n',data.dtypes)\n"
   ]
  },
  {
   "cell_type": "code",
   "execution_count": 53,
   "id": "005ec374-f21f-4d52-9bb5-49dd0cddc279",
   "metadata": {},
   "outputs": [
    {
     "name": "stdout",
     "output_type": "stream",
     "text": [
      "\n",
      " b. Top/Bottom 10 observations \n",
      "\n",
      "    transaction_id  tran_date  cust_id        DOB Gender  city_code  \\\n",
      "0     80712190438 2014-02-28   270351 1981-09-26      M        5.0   \n",
      "1     29258453508 2014-02-27   270384 1973-11-05      F        8.0   \n",
      "2     51750724947 2014-02-24   273420 1992-07-27      M        8.0   \n",
      "3     93274880719 2014-02-24   271509 1981-08-06      M        3.0   \n",
      "4     51750724947 2014-02-23   273420 1992-07-27      M        8.0   \n",
      "5     97439039119 2014-02-23   272357 1982-09-10      F        6.0   \n",
      "6     45649838090 2014-02-22   273667 1981-05-29      M        9.0   \n",
      "7     22643667930 2014-02-22   271489 1971-04-21      M        9.0   \n",
      "8     79792372943 2014-02-22   275108 1971-04-11      F        8.0   \n",
      "9     50076728598 2014-02-21   269014 1979-11-27      F        3.0   \n",
      "\n",
      "   prod_cat_code          prod_cat  prod_subcat_code          prod_subcat  \\\n",
      "0              1          Clothing                 1                Women   \n",
      "1              3       Electronics                 5            Computers   \n",
      "2              5             Books                 6                  DIY   \n",
      "3              6  Home and kitchen                11                 Bath   \n",
      "4              5             Books                 6                  DIY   \n",
      "5              3       Electronics                 8  Personal Appliances   \n",
      "6              6  Home and kitchen                11                 Bath   \n",
      "7              6  Home and kitchen                12                Tools   \n",
      "8              1          Clothing                 3                 Kids   \n",
      "9              3       Electronics                 8  Personal Appliances   \n",
      "\n",
      "   Qty  Rate      Tax  total_amt Store_type  \n",
      "0   -5  -772  405.300  -4265.300     e-Shop  \n",
      "1   -5 -1497  785.925  -8270.925     e-Shop  \n",
      "2   -2  -791  166.110  -1748.110   TeleShop  \n",
      "3   -3 -1363  429.345  -4518.345     e-Shop  \n",
      "4   -2  -791  166.110  -1748.110   TeleShop  \n",
      "5   -2  -824  173.040  -1821.040   TeleShop  \n",
      "6   -1 -1450  152.250  -1602.250     e-Shop  \n",
      "7   -1 -1225  128.625  -1353.625   TeleShop  \n",
      "8   -3  -908  286.020  -3010.020        MBR  \n",
      "9   -4  -581  244.020  -2568.020     e-Shop  \n"
     ]
    }
   ],
   "source": [
    "print('\\n b. Top/Bottom 10 observations \\n\\n',data.head(10).tail(10))\n"
   ]
  },
  {
   "cell_type": "code",
   "execution_count": 54,
   "id": "4d1cf248-1da3-45e3-afa7-8d8731c14729",
   "metadata": {},
   "outputs": [
    {
     "data": {
      "text/html": [
       "<div>\n",
       "<style scoped>\n",
       "    .dataframe tbody tr th:only-of-type {\n",
       "        vertical-align: middle;\n",
       "    }\n",
       "\n",
       "    .dataframe tbody tr th {\n",
       "        vertical-align: top;\n",
       "    }\n",
       "\n",
       "    .dataframe thead th {\n",
       "        text-align: right;\n",
       "    }\n",
       "</style>\n",
       "<table border=\"1\" class=\"dataframe\">\n",
       "  <thead>\n",
       "    <tr style=\"text-align: right;\">\n",
       "      <th></th>\n",
       "      <th>min</th>\n",
       "      <th>25%</th>\n",
       "      <th>50%</th>\n",
       "      <th>75%</th>\n",
       "      <th>max</th>\n",
       "    </tr>\n",
       "  </thead>\n",
       "  <tbody>\n",
       "    <tr>\n",
       "      <th>transaction_id</th>\n",
       "      <td>3268991.0</td>\n",
       "      <td>24938639453.0</td>\n",
       "      <td>50093131361.0</td>\n",
       "      <td>75329995679.0</td>\n",
       "      <td>99987549630.0</td>\n",
       "    </tr>\n",
       "    <tr>\n",
       "      <th>tran_date</th>\n",
       "      <td>2011-01-02 00:00:00</td>\n",
       "      <td>2011-10-31 00:00:00</td>\n",
       "      <td>2012-08-12 00:00:00</td>\n",
       "      <td>2013-05-18 00:00:00</td>\n",
       "      <td>2014-12-02 00:00:00</td>\n",
       "    </tr>\n",
       "    <tr>\n",
       "      <th>cust_id</th>\n",
       "      <td>266783.0</td>\n",
       "      <td>268935.0</td>\n",
       "      <td>270980.0</td>\n",
       "      <td>273114.0</td>\n",
       "      <td>275265.0</td>\n",
       "    </tr>\n",
       "    <tr>\n",
       "      <th>DOB</th>\n",
       "      <td>1970-01-02 00:00:00</td>\n",
       "      <td>1975-09-22 00:00:00</td>\n",
       "      <td>1981-06-23 00:00:00</td>\n",
       "      <td>1987-05-19 00:00:00</td>\n",
       "      <td>1992-12-29 00:00:00</td>\n",
       "    </tr>\n",
       "    <tr>\n",
       "      <th>city_code</th>\n",
       "      <td>1.0</td>\n",
       "      <td>3.0</td>\n",
       "      <td>5.0</td>\n",
       "      <td>8.0</td>\n",
       "      <td>10.0</td>\n",
       "    </tr>\n",
       "    <tr>\n",
       "      <th>prod_cat_code</th>\n",
       "      <td>1.0</td>\n",
       "      <td>2.0</td>\n",
       "      <td>4.0</td>\n",
       "      <td>5.0</td>\n",
       "      <td>6.0</td>\n",
       "    </tr>\n",
       "    <tr>\n",
       "      <th>prod_subcat_code</th>\n",
       "      <td>1.0</td>\n",
       "      <td>3.0</td>\n",
       "      <td>5.0</td>\n",
       "      <td>10.0</td>\n",
       "      <td>12.0</td>\n",
       "    </tr>\n",
       "    <tr>\n",
       "      <th>Qty</th>\n",
       "      <td>-5.0</td>\n",
       "      <td>1.0</td>\n",
       "      <td>3.0</td>\n",
       "      <td>4.0</td>\n",
       "      <td>5.0</td>\n",
       "    </tr>\n",
       "    <tr>\n",
       "      <th>Rate</th>\n",
       "      <td>-1499.0</td>\n",
       "      <td>312.0</td>\n",
       "      <td>710.0</td>\n",
       "      <td>1109.0</td>\n",
       "      <td>1500.0</td>\n",
       "    </tr>\n",
       "    <tr>\n",
       "      <th>Tax</th>\n",
       "      <td>7.35</td>\n",
       "      <td>98.28</td>\n",
       "      <td>199.08</td>\n",
       "      <td>365.715</td>\n",
       "      <td>787.5</td>\n",
       "    </tr>\n",
       "    <tr>\n",
       "      <th>total_amt</th>\n",
       "      <td>-8270.925</td>\n",
       "      <td>762.45</td>\n",
       "      <td>1754.74</td>\n",
       "      <td>3569.15</td>\n",
       "      <td>8287.5</td>\n",
       "    </tr>\n",
       "  </tbody>\n",
       "</table>\n",
       "</div>"
      ],
      "text/plain": [
       "                                  min                  25%  \\\n",
       "transaction_id              3268991.0        24938639453.0   \n",
       "tran_date         2011-01-02 00:00:00  2011-10-31 00:00:00   \n",
       "cust_id                      266783.0             268935.0   \n",
       "DOB               1970-01-02 00:00:00  1975-09-22 00:00:00   \n",
       "city_code                         1.0                  3.0   \n",
       "prod_cat_code                     1.0                  2.0   \n",
       "prod_subcat_code                  1.0                  3.0   \n",
       "Qty                              -5.0                  1.0   \n",
       "Rate                          -1499.0                312.0   \n",
       "Tax                              7.35                98.28   \n",
       "total_amt                   -8270.925               762.45   \n",
       "\n",
       "                                  50%                  75%  \\\n",
       "transaction_id          50093131361.0        75329995679.0   \n",
       "tran_date         2012-08-12 00:00:00  2013-05-18 00:00:00   \n",
       "cust_id                      270980.0             273114.0   \n",
       "DOB               1981-06-23 00:00:00  1987-05-19 00:00:00   \n",
       "city_code                         5.0                  8.0   \n",
       "prod_cat_code                     4.0                  5.0   \n",
       "prod_subcat_code                  5.0                 10.0   \n",
       "Qty                               3.0                  4.0   \n",
       "Rate                            710.0               1109.0   \n",
       "Tax                            199.08              365.715   \n",
       "total_amt                     1754.74              3569.15   \n",
       "\n",
       "                                  max  \n",
       "transaction_id          99987549630.0  \n",
       "tran_date         2014-12-02 00:00:00  \n",
       "cust_id                      275265.0  \n",
       "DOB               1992-12-29 00:00:00  \n",
       "city_code                        10.0  \n",
       "prod_cat_code                     6.0  \n",
       "prod_subcat_code                 12.0  \n",
       "Qty                               5.0  \n",
       "Rate                           1500.0  \n",
       "Tax                             787.5  \n",
       "total_amt                      8287.5  "
      ]
     },
     "execution_count": 54,
     "metadata": {},
     "output_type": "execute_result"
    }
   ],
   "source": [
    "# c. “Five-number summary” for continuous variables (min, Q1, median, Q3 and max)\n",
    "summ=data.describe().T\n",
    "summ.loc[:,'min':'max']"
   ]
  },
  {
   "cell_type": "code",
   "execution_count": 55,
   "id": "add42208-9cfb-4703-9465-a1bd355daab3",
   "metadata": {},
   "outputs": [
    {
     "name": "stdout",
     "output_type": "stream",
     "text": [
      "Gender\n",
      "M    11811\n",
      "F    11233\n",
      "Name: count, dtype: int64 \n",
      "\n",
      "prod_cat\n",
      "Books               6069\n",
      "Electronics         4898\n",
      "Home and kitchen    4129\n",
      "Footwear            2999\n",
      "Clothing            2960\n",
      "Bags                1998\n",
      "Name: count, dtype: int64 \n",
      "\n",
      "prod_subcat\n",
      "Women                  3048\n",
      "Mens                   2912\n",
      "Kids                   1997\n",
      "Tools                  1062\n",
      "Fiction                1043\n",
      "Kitchen                1037\n",
      "Children               1035\n",
      "Mobiles                1031\n",
      "Comics                 1031\n",
      "Bath                   1023\n",
      "Furnishing             1007\n",
      "Non-Fiction            1004\n",
      "DIY                     989\n",
      "Cameras                 985\n",
      "Personal Appliances     972\n",
      "Academic                967\n",
      "Computers               958\n",
      "Audio and video         952\n",
      "Name: count, dtype: int64 \n",
      "\n",
      "Store_type\n",
      "e-Shop            9311\n",
      "MBR               4661\n",
      "Flagship store    4577\n",
      "TeleShop          4504\n",
      "Name: count, dtype: int64 \n",
      "\n"
     ]
    }
   ],
   "source": [
    "# d. Frequency tables for all the categorical variablle\n",
    "cat_columns=data.select_dtypes(include=['object']).columns\n",
    "for col in cat_columns:\n",
    "  print(data[col].value_counts() ,'\\n')\n"
   ]
  },
  {
   "cell_type": "raw",
   "id": "534c1801-916e-4341-8831-5283931a3209",
   "metadata": {},
   "source": [
    "3. Generate histograms for all continuous variables and frequency bars for categorical variables.\n"
   ]
  },
  {
   "cell_type": "code",
   "execution_count": 56,
   "id": "f0bc5405-1d81-4e0b-b891-0fe87de9f23e",
   "metadata": {},
   "outputs": [
    {
     "data": {
      "image/png": "[encoded data removed]",
      "text/plain": [
       "<Figure size 800x500 with 1 Axes>"
      ]
     },
     "metadata": {},
     "output_type": "display_data"
    },
    {
     "data": {
      "image/png": "[encoded data removed]",
      "text/plain": [
       "<Figure size 800x500 with 1 Axes>"
      ]
     },
     "metadata": {},
     "output_type": "display_data"
    },
    {
     "data": {
      "image/png": "[encoded data removed]",
      "text/plain": [
       "<Figure size 800x500 with 1 Axes>"
      ]
     },
     "metadata": {},
     "output_type": "display_data"
    },
    {
     "data": {
      "image/png": "[encoded data removed]",
      "text/plain": [
       "<Figure size 800x500 with 1 Axes>"
      ]
     },
     "metadata": {},
     "output_type": "display_data"
    },
    {
     "data": {
      "image/png": "[encoded data removed]",
      "text/plain": [
       "<Figure size 800x500 with 1 Axes>"
      ]
     },
     "metadata": {},
     "output_type": "display_data"
    },
    {
     "data": {
      "image/png": "[encoded data removed]",
      "text/plain": [
       "<Figure size 800x500 with 1 Axes>"
      ]
     },
     "metadata": {},
     "output_type": "display_data"
    },
    {
     "data": {
      "image/png": "[encoded data removed]",
      "text/plain": [
       "<Figure size 800x500 with 1 Axes>"
      ]
     },
     "metadata": {},
     "output_type": "display_data"
    },
    {
     "data": {
      "image/png": "[encoded data removed]",
      "text/plain": [
       "<Figure size 800x500 with 1 Axes>"
      ]
     },
     "metadata": {},
     "output_type": "display_data"
    },
    {
     "data": {
      "image/png": "[encoded data removed]",
      "text/plain": [
       "<Figure size 800x500 with 1 Axes>"
      ]
     },
     "metadata": {},
     "output_type": "display_data"
    },
    {
     "data": {
      "image/png": "[encoded data removed]",
      "text/plain": [
       "<Figure size 800x500 with 1 Axes>"
      ]
     },
     "metadata": {},
     "output_type": "display_data"
    },
    {
     "data": {
      "image/png": "[encoded data removed]",
      "text/plain": [
       "<Figure size 800x500 with 1 Axes>"
      ]
     },
     "metadata": {},
     "output_type": "display_data"
    },
    {
     "data": {
      "image/png": "[encoded data removed]",
      "text/plain": [
       "<Figure size 800x500 with 1 Axes>"
      ]
     },
     "metadata": {},
     "output_type": "display_data"
    },
    {
     "data": {
      "image/png": "[encoded data removed]",
      "text/plain": [
       "<Figure size 800x500 with 1 Axes>"
      ]
     },
     "metadata": {},
     "output_type": "display_data"
    }
   ],
   "source": [
    "import matplotlib.pyplot as plt \n",
    "import seaborn as sns\n",
    "continuous_var=data.select_dtypes(include=['int64','float64']).columns\n",
    "categorical_var=data.select_dtypes(include=['object']).columns\n",
    "for col in data.columns:\n",
    "    if col in continuous_var:\n",
    "        plt.figure(figsize=(8,5))\n",
    "        sns.histplot(data[col])   \n",
    "        plt.title(f'Histogram for {col}')\n",
    "        plt.xlabel(col)\n",
    "        plt.ylabel('Frequency')\n",
    "        plt.show()    \n",
    "        \n",
    "    elif col in categorical_var:\n",
    "        plt.figure(figsize=(8, 5))\n",
    "        sns.countplot(x=data[col] )    \n",
    "        plt.title(f'Count plot for {col}')\n",
    "        plt.xlabel(col)\n",
    "        plt.ylabel('Count')\n",
    "        plt.xticks(rotation=90)\n",
    "        plt.show()"
   ]
  },
  {
   "cell_type": "raw",
   "id": "6c2bd328-4632-4695-9fd2-15484ea4add1",
   "metadata": {},
   "source": [
    "4. Calculate the following information using the merged dataset :\n",
    " a. Time period of the available transaction data\n",
    " b. Count of transactions where the total amount of transaction was negative"
   ]
  },
  {
   "cell_type": "raw",
   "id": "e3c2f74d-8729-42e2-ab3e-43d563d37ab2",
   "metadata": {},
   "source": [
    "****When your tran_date column contains dates in multiple formats (e.g., dmy and mdy), you can handle this using Pandas' pd.to_datetime with       format='mixed'. This allows Pandas to infer the format for each element individually.****"
   ]
  },
  {
   "cell_type": "code",
   "execution_count": 57,
   "id": "fc10a22b-046b-4cb6-80bd-d01a73c98128",
   "metadata": {
    "scrolled": true
   },
   "outputs": [
    {
     "name": "stdout",
     "output_type": "stream",
     "text": [
      "Time period of transaction : 2011-01-02 00:00:00 to 2014-12-02 00:00:00\n"
     ]
    }
   ],
   "source": [
    "data['tran_date']=pd.to_datetime(data['tran_date'],format='mixed')\n",
    "min_date=data['tran_date'].min()\n",
    "max_date=data['tran_date'].max()\n",
    "print(f'Time period of transaction : {min_date} to {max_date}')\n"
   ]
  },
  {
   "cell_type": "code",
   "execution_count": 58,
   "id": "442fc265-6fa6-4145-af11-9e595c8d5eee",
   "metadata": {},
   "outputs": [
    {
     "data": {
      "text/plain": [
       "2177"
      ]
     },
     "execution_count": 58,
     "metadata": {},
     "output_type": "execute_result"
    }
   ],
   "source": [
    "# b. Count of transactions where the total amount of transaction was negative\n",
    "data['tran_date']=pd.to_datetime(data['tran_date'],format='mixed')\n",
    "negative_tran=data[data['total_amt']<0].shape[0]\n",
    "negative_tran"
   ]
  },
  {
   "cell_type": "raw",
   "id": "f6e3b9c6-34da-4f33-be16-288ab1d5fba3",
   "metadata": {},
   "source": [
    "5. Analyze which product categories are more popular among females vs male customers"
   ]
  },
  {
   "cell_type": "raw",
   "id": "16824c0a-ced9-45c8-a533-5687a4af580c",
   "metadata": {},
   "source": [
    ".agg():\n",
    "\n",
    "For each group, calculates:\n",
    "total_quantity=('Qty', 'sum'):Aggregates the Qty column using the sum() function and Renames the result as total_quantity.\n",
    "total_sales=('total_amt', 'sum'):Aggregates the total_amt column using the sum() function and Renames the result as total_sales."
   ]
  },
  {
   "cell_type": "code",
   "execution_count": 59,
   "id": "1d83f57b-9863-409c-98d2-c09a28c033a0",
   "metadata": {},
   "outputs": [
    {
     "name": "stdout",
     "output_type": "stream",
     "text": [
      "Top Product Categories for Male Customers:\n",
      "   Gender          prod_cat   Qty\n",
      "0      M             Books  7587\n",
      "1      M       Electronics  6476\n",
      "2      M  Home and kitchen  5041\n",
      "3      M          Clothing  3748\n",
      "4      M          Footwear  3555\n",
      "\n",
      "\n",
      " Top Product Categories for Female Customers:\n",
      "   Gender          prod_cat   Qty\n",
      "0      F             Books  7070\n",
      "1      F       Electronics  5832\n",
      "2      F  Home and kitchen  4895\n",
      "3      F          Footwear  3716\n",
      "4      F          Clothing  3425\n"
     ]
    }
   ],
   "source": [
    "gender_prod_summ=data.groupby(['Gender','prod_cat'])['Qty'].sum().reset_index()\n",
    "\n",
    "female_cust=gender_prod_summ[gender_prod_summ['Gender']=='F']\n",
    "male_cust=gender_prod_summ[gender_prod_summ['Gender']=='M']\n",
    "\n",
    "female_popularity=female_cust.sort_values(by='Qty',ascending=False,ignore_index=True) \n",
    "male_popularity=male_cust.sort_values(by='Qty',ascending=False,ignore_index=True) \n",
    "\n",
    "print(\"Top Product Categories for Male Customers:\\n\",male_popularity.head())\n",
    "print(\"\\n\\n Top Product Categories for Female Customers:\\n\",female_popularity.head())\n",
    " "
   ]
  },
  {
   "cell_type": "raw",
   "id": "974553e2-4efe-46e4-b3e6-ececb273ea1a",
   "metadata": {},
   "source": [
    "6. Which City code has the maximum customers and what was the percentage of customers from\n",
    "that city?"
   ]
  },
  {
   "cell_type": "code",
   "execution_count": 60,
   "id": "7f35b14f-8745-4b2e-9a9d-8b35dc3ad332",
   "metadata": {},
   "outputs": [
    {
     "data": {
      "text/html": [
       "<div>\n",
       "<style scoped>\n",
       "    .dataframe tbody tr th:only-of-type {\n",
       "        vertical-align: middle;\n",
       "    }\n",
       "\n",
       "    .dataframe tbody tr th {\n",
       "        vertical-align: top;\n",
       "    }\n",
       "\n",
       "    .dataframe thead th {\n",
       "        text-align: right;\n",
       "    }\n",
       "</style>\n",
       "<table border=\"1\" class=\"dataframe\">\n",
       "  <thead>\n",
       "    <tr style=\"text-align: right;\">\n",
       "      <th></th>\n",
       "      <th>Customer_Count</th>\n",
       "      <th>Percentage</th>\n",
       "    </tr>\n",
       "    <tr>\n",
       "      <th>city_code</th>\n",
       "      <th></th>\n",
       "      <th></th>\n",
       "    </tr>\n",
       "  </thead>\n",
       "  <tbody>\n",
       "    <tr>\n",
       "      <th>3.0</th>\n",
       "      <td>595</td>\n",
       "      <td>10.540301</td>\n",
       "    </tr>\n",
       "    <tr>\n",
       "      <th>5.0</th>\n",
       "      <td>586</td>\n",
       "      <td>10.380868</td>\n",
       "    </tr>\n",
       "    <tr>\n",
       "      <th>4.0</th>\n",
       "      <td>582</td>\n",
       "      <td>10.310009</td>\n",
       "    </tr>\n",
       "    <tr>\n",
       "      <th>7.0</th>\n",
       "      <td>575</td>\n",
       "      <td>10.186005</td>\n",
       "    </tr>\n",
       "    <tr>\n",
       "      <th>2.0</th>\n",
       "      <td>564</td>\n",
       "      <td>9.991143</td>\n",
       "    </tr>\n",
       "    <tr>\n",
       "      <th>8.0</th>\n",
       "      <td>562</td>\n",
       "      <td>9.955713</td>\n",
       "    </tr>\n",
       "    <tr>\n",
       "      <th>10.0</th>\n",
       "      <td>558</td>\n",
       "      <td>9.884854</td>\n",
       "    </tr>\n",
       "    <tr>\n",
       "      <th>1.0</th>\n",
       "      <td>551</td>\n",
       "      <td>9.760850</td>\n",
       "    </tr>\n",
       "    <tr>\n",
       "      <th>9.0</th>\n",
       "      <td>546</td>\n",
       "      <td>9.672276</td>\n",
       "    </tr>\n",
       "    <tr>\n",
       "      <th>6.0</th>\n",
       "      <td>526</td>\n",
       "      <td>9.317981</td>\n",
       "    </tr>\n",
       "  </tbody>\n",
       "</table>\n",
       "</div>"
      ],
      "text/plain": [
       "           Customer_Count  Percentage\n",
       "city_code                            \n",
       "3.0                   595   10.540301\n",
       "5.0                   586   10.380868\n",
       "4.0                   582   10.310009\n",
       "7.0                   575   10.186005\n",
       "2.0                   564    9.991143\n",
       "8.0                   562    9.955713\n",
       "10.0                  558    9.884854\n",
       "1.0                   551    9.760850\n",
       "9.0                   546    9.672276\n",
       "6.0                   526    9.317981"
      ]
     },
     "execution_count": 60,
     "metadata": {},
     "output_type": "execute_result"
    }
   ],
   "source": [
    "city_counts = cust['city_code'].value_counts()\n",
    "city_percent = cust['city_code'].value_counts(normalize=True) * 100\n",
    "city_summary = pd.DataFrame({'Customer_Count': city_counts,'Percentage': city_percent})\n",
    "city_summary"
   ]
  },
  {
   "cell_type": "code",
   "execution_count": 61,
   "id": "8cc79e5b-3cc7-4da5-9e20-dc4a1069d438",
   "metadata": {},
   "outputs": [
    {
     "name": "stdout",
     "output_type": "stream",
     "text": [
      "City code with max customers: 3.0\n",
      "Percentage of customers from that city: 10.54%\n"
     ]
    }
   ],
   "source": [
    "city_dist = cust['city_code'].value_counts(normalize=True) * 100  # percentage\n",
    "max_city_code = city_dist.idxmax()\n",
    "max_city_percent = city_dist.max()\n",
    "print(f\"City code with max customers: {max_city_code}\")\n",
    "print(f\"Percentage of customers from that city: {max_city_percent:.2f}%\")"
   ]
  },
  {
   "cell_type": "code",
   "execution_count": 62,
   "id": "71e6060a-f17a-416a-b069-64f31d5f0393",
   "metadata": {},
   "outputs": [
    {
     "name": "stdout",
     "output_type": "stream",
     "text": [
      "The city code with the maximum customers is: 3.0\n",
      "Number of customers in this city: 576\n",
      "Percentage of customers from this city: 10.47%\n"
     ]
    }
   ],
   "source": [
    "# if we want only the max count of customers and their percentages who made transactions then \n",
    "city_cust_count=data.groupby('city_code').cust_id.nunique()  \n",
    "max_cust_city=city_cust_count.idxmax()  #city that has maximum number of customers\n",
    "max_cust_count=city_cust_count.max()    #maximum number of customer\n",
    "total_customers=city_cust_count.sum()\n",
    "percentage=(max_cust_count/total_customers)*100\n",
    "print(f\"The city code with the maximum customers is: {max_cust_city}\")\n",
    "print(f\"Number of customers in this city: {max_cust_count}\")\n",
    "print(f\"Percentage of customers from this city: {percentage:.2f}%\")\n"
   ]
  },
  {
   "cell_type": "raw",
   "id": "1c9e3e6e-01e1-499d-9b49-ebb943dc35dc",
   "metadata": {},
   "source": [
    "7. Which store type sells the maximum products by value and by quantity?"
   ]
  },
  {
   "cell_type": "code",
   "execution_count": 63,
   "id": "c2ad5b49-401e-4c99-81fa-23c825a46122",
   "metadata": {},
   "outputs": [
    {
     "name": "stdout",
     "output_type": "stream",
     "text": [
      "Store types that sells maximum products by value :\n",
      " \n"
     ]
    },
    {
     "data": {
      "text/html": [
       "<div>\n",
       "<style scoped>\n",
       "    .dataframe tbody tr th:only-of-type {\n",
       "        vertical-align: middle;\n",
       "    }\n",
       "\n",
       "    .dataframe tbody tr th {\n",
       "        vertical-align: top;\n",
       "    }\n",
       "\n",
       "    .dataframe thead th {\n",
       "        text-align: right;\n",
       "    }\n",
       "</style>\n",
       "<table border=\"1\" class=\"dataframe\">\n",
       "  <thead>\n",
       "    <tr style=\"text-align: right;\">\n",
       "      <th></th>\n",
       "      <th>total_amt</th>\n",
       "      <th>Qty</th>\n",
       "    </tr>\n",
       "    <tr>\n",
       "      <th>Store_type</th>\n",
       "      <th></th>\n",
       "      <th></th>\n",
       "    </tr>\n",
       "  </thead>\n",
       "  <tbody>\n",
       "    <tr>\n",
       "      <th>e-Shop</th>\n",
       "      <td>1.982482e+07</td>\n",
       "      <td>22763</td>\n",
       "    </tr>\n",
       "    <tr>\n",
       "      <th>Flagship store</th>\n",
       "      <td>9.715688e+06</td>\n",
       "      <td>11133</td>\n",
       "    </tr>\n",
       "    <tr>\n",
       "      <th>MBR</th>\n",
       "      <td>9.674486e+06</td>\n",
       "      <td>11194</td>\n",
       "    </tr>\n",
       "    <tr>\n",
       "      <th>TeleShop</th>\n",
       "      <td>9.364781e+06</td>\n",
       "      <td>10984</td>\n",
       "    </tr>\n",
       "  </tbody>\n",
       "</table>\n",
       "</div>"
      ],
      "text/plain": [
       "                   total_amt    Qty\n",
       "Store_type                         \n",
       "e-Shop          1.982482e+07  22763\n",
       "Flagship store  9.715688e+06  11133\n",
       "MBR             9.674486e+06  11194\n",
       "TeleShop        9.364781e+06  10984"
      ]
     },
     "metadata": {},
     "output_type": "display_data"
    },
    {
     "name": "stdout",
     "output_type": "stream",
     "text": [
      "Store types that sells maximum products by quantity :\n",
      "\n"
     ]
    },
    {
     "data": {
      "text/html": [
       "<div>\n",
       "<style scoped>\n",
       "    .dataframe tbody tr th:only-of-type {\n",
       "        vertical-align: middle;\n",
       "    }\n",
       "\n",
       "    .dataframe tbody tr th {\n",
       "        vertical-align: top;\n",
       "    }\n",
       "\n",
       "    .dataframe thead th {\n",
       "        text-align: right;\n",
       "    }\n",
       "</style>\n",
       "<table border=\"1\" class=\"dataframe\">\n",
       "  <thead>\n",
       "    <tr style=\"text-align: right;\">\n",
       "      <th></th>\n",
       "      <th>total_amt</th>\n",
       "      <th>Qty</th>\n",
       "    </tr>\n",
       "    <tr>\n",
       "      <th>Store_type</th>\n",
       "      <th></th>\n",
       "      <th></th>\n",
       "    </tr>\n",
       "  </thead>\n",
       "  <tbody>\n",
       "    <tr>\n",
       "      <th>e-Shop</th>\n",
       "      <td>1.982482e+07</td>\n",
       "      <td>22763</td>\n",
       "    </tr>\n",
       "    <tr>\n",
       "      <th>MBR</th>\n",
       "      <td>9.674486e+06</td>\n",
       "      <td>11194</td>\n",
       "    </tr>\n",
       "    <tr>\n",
       "      <th>Flagship store</th>\n",
       "      <td>9.715688e+06</td>\n",
       "      <td>11133</td>\n",
       "    </tr>\n",
       "    <tr>\n",
       "      <th>TeleShop</th>\n",
       "      <td>9.364781e+06</td>\n",
       "      <td>10984</td>\n",
       "    </tr>\n",
       "  </tbody>\n",
       "</table>\n",
       "</div>"
      ],
      "text/plain": [
       "                   total_amt    Qty\n",
       "Store_type                         \n",
       "e-Shop          1.982482e+07  22763\n",
       "MBR             9.674486e+06  11194\n",
       "Flagship store  9.715688e+06  11133\n",
       "TeleShop        9.364781e+06  10984"
      ]
     },
     "metadata": {},
     "output_type": "display_data"
    }
   ],
   "source": [
    "store_type_summ=data.groupby('Store_type')[['total_amt','Qty']].sum()\n",
    "print('Store types that sells maximum products by value :\\n ')\n",
    "display(store_type_summ.sort_values(by=['total_amt'],ascending=False))\n",
    "print('Store types that sells maximum products by quantity :\\n')\n",
    "display(store_type_summ.sort_values(by=['Qty'],ascending=False))"
   ]
  },
  {
   "cell_type": "code",
   "execution_count": 64,
   "id": "46e8cd91-1493-492a-b670-8859778d9c36",
   "metadata": {},
   "outputs": [
    {
     "name": "stdout",
     "output_type": "stream",
     "text": [
      "Store type with max value: e-Shop\n",
      "Store type with max quantity: e-Shop\n"
     ]
    }
   ],
   "source": [
    "max_value_type = store_type_summ['total_amt'].idxmax()\n",
    "max_qty_type = store_type_summ['Qty'].idxmax()\n",
    "print(f\"Store type with max value: {max_value_type}\")\n",
    "print(f\"Store type with max quantity: {max_qty_type}\")"
   ]
  },
  {
   "cell_type": "raw",
   "id": "00a77a2e-94cd-48fd-8548-7dc738321063",
   "metadata": {},
   "source": [
    "8. What was the total amount earned from the \"Electronics\" and \"Clothing\" categories from\n",
    "Flagship Stores?"
   ]
  },
  {
   "cell_type": "code",
   "execution_count": 65,
   "id": "bb853ef8-38a1-400c-a94c-0e300b228bb9",
   "metadata": {},
   "outputs": [
    {
     "name": "stdout",
     "output_type": "stream",
     "text": [
      "Total amount earned from 'Electronics' and 'Clothing' in Flagship Stores: 3409559.27\n"
     ]
    }
   ],
   "source": [
    "Flagship_store=data[data['Store_type']== 'Flagship store']\n",
    "elec_clot_cat= Flagship_store[Flagship_store['prod_cat'].isin(['Electronics','Clothing'])]\n",
    "total_amt=elec_clot_cat['total_amt'].sum()\n",
    "print(f\"Total amount earned from 'Electronics' and 'Clothing' in Flagship Stores: {total_amt}\")"
   ]
  },
  {
   "cell_type": "raw",
   "id": "5bb762eb-309d-415e-9cb1-bfa0896c5fb1",
   "metadata": {},
   "source": [
    "9. What was the total amount earned from \"Male\" customers under the \"Electronics\" category?"
   ]
  },
  {
   "cell_type": "code",
   "execution_count": 66,
   "id": "88f3d877-cc78-4418-b60f-7387d436238c",
   "metadata": {},
   "outputs": [
    {
     "data": {
      "text/plain": [
       "5703109.424999999"
      ]
     },
     "execution_count": 66,
     "metadata": {},
     "output_type": "execute_result"
    }
   ],
   "source": [
    "male_elec_amt=data[(data['prod_cat']=='Electronics' ) & (data['Gender']=='M')]['total_amt'].sum()\n",
    "male_elec_amt"
   ]
  },
  {
   "cell_type": "raw",
   "id": "65e2ceb7-6b4f-4a11-967c-b88922153e30",
   "metadata": {},
   "source": [
    "10. How many customers have more than 10 unique transactions, after removing all transactions\n",
    "which have any negative amounts?"
   ]
  },
  {
   "cell_type": "code",
   "execution_count": 67,
   "id": "2ce00624-d3a2-426b-a01b-eed901e514d5",
   "metadata": {},
   "outputs": [
    {
     "data": {
      "text/plain": [
       "6"
      ]
     },
     "execution_count": 67,
     "metadata": {},
     "output_type": "execute_result"
    }
   ],
   "source": [
    "# Remove rows with negative amounts\n",
    "positive_tran=data[(data['Qty'] > 0) & (data['Rate'] > 0) & (data['Tax'] >= 0) & (data['total_amt'] > 0)]\n",
    "#unique transaction per customer\n",
    "tran_per_cust=data.groupby(['cust_id']).transaction_id.nunique()\n",
    "more_than_10_tran=tran_per_cust[tran_per_cust>10].count()\n",
    "more_than_10_tran"
   ]
  },
  {
   "cell_type": "raw",
   "id": "49af0148-9ff3-4b6f-9f05-957b3ffc4419",
   "metadata": {},
   "source": [
    "11. For all customers aged between 25 - 35, find out:\n",
    " a. What was the total amount spent for “Electronics” and “Books” product categories?\n",
    " b. What was the total amount spent by these customers between 1st Jan, 2014 to 1st Mar, 2014?\n"
   ]
  },
  {
   "cell_type": "code",
   "execution_count": 74,
   "id": "707349e6-347b-40cb-ae42-2c709a6fbb53",
   "metadata": {},
   "outputs": [
    {
     "data": {
      "text/html": [
       "<div>\n",
       "<style scoped>\n",
       "    .dataframe tbody tr th:only-of-type {\n",
       "        vertical-align: middle;\n",
       "    }\n",
       "\n",
       "    .dataframe tbody tr th {\n",
       "        vertical-align: top;\n",
       "    }\n",
       "\n",
       "    .dataframe thead th {\n",
       "        text-align: right;\n",
       "    }\n",
       "</style>\n",
       "<table border=\"1\" class=\"dataframe\">\n",
       "  <thead>\n",
       "    <tr style=\"text-align: right;\">\n",
       "      <th></th>\n",
       "      <th>transaction_id</th>\n",
       "      <th>tran_date</th>\n",
       "      <th>cust_id</th>\n",
       "      <th>DOB</th>\n",
       "      <th>Gender</th>\n",
       "      <th>city_code</th>\n",
       "      <th>prod_cat_code</th>\n",
       "      <th>prod_cat</th>\n",
       "      <th>prod_subcat_code</th>\n",
       "      <th>prod_subcat</th>\n",
       "      <th>Qty</th>\n",
       "      <th>Rate</th>\n",
       "      <th>Tax</th>\n",
       "      <th>total_amt</th>\n",
       "      <th>Store_type</th>\n",
       "      <th>Age</th>\n",
       "    </tr>\n",
       "  </thead>\n",
       "  <tbody>\n",
       "    <tr>\n",
       "      <th>0</th>\n",
       "      <td>80712190438</td>\n",
       "      <td>2014-02-28</td>\n",
       "      <td>270351</td>\n",
       "      <td>1981-09-26</td>\n",
       "      <td>M</td>\n",
       "      <td>5.0</td>\n",
       "      <td>1</td>\n",
       "      <td>Clothing</td>\n",
       "      <td>1</td>\n",
       "      <td>Women</td>\n",
       "      <td>-5</td>\n",
       "      <td>-772</td>\n",
       "      <td>405.300</td>\n",
       "      <td>-4265.300</td>\n",
       "      <td>e-Shop</td>\n",
       "      <td>33</td>\n",
       "    </tr>\n",
       "    <tr>\n",
       "      <th>3</th>\n",
       "      <td>93274880719</td>\n",
       "      <td>2014-02-24</td>\n",
       "      <td>271509</td>\n",
       "      <td>1981-08-06</td>\n",
       "      <td>M</td>\n",
       "      <td>3.0</td>\n",
       "      <td>6</td>\n",
       "      <td>Home and kitchen</td>\n",
       "      <td>11</td>\n",
       "      <td>Bath</td>\n",
       "      <td>-3</td>\n",
       "      <td>-1363</td>\n",
       "      <td>429.345</td>\n",
       "      <td>-4518.345</td>\n",
       "      <td>e-Shop</td>\n",
       "      <td>33</td>\n",
       "    </tr>\n",
       "    <tr>\n",
       "      <th>5</th>\n",
       "      <td>97439039119</td>\n",
       "      <td>2014-02-23</td>\n",
       "      <td>272357</td>\n",
       "      <td>1982-09-10</td>\n",
       "      <td>F</td>\n",
       "      <td>6.0</td>\n",
       "      <td>3</td>\n",
       "      <td>Electronics</td>\n",
       "      <td>8</td>\n",
       "      <td>Personal Appliances</td>\n",
       "      <td>-2</td>\n",
       "      <td>-824</td>\n",
       "      <td>173.040</td>\n",
       "      <td>-1821.040</td>\n",
       "      <td>TeleShop</td>\n",
       "      <td>32</td>\n",
       "    </tr>\n",
       "    <tr>\n",
       "      <th>6</th>\n",
       "      <td>45649838090</td>\n",
       "      <td>2014-02-22</td>\n",
       "      <td>273667</td>\n",
       "      <td>1981-05-29</td>\n",
       "      <td>M</td>\n",
       "      <td>9.0</td>\n",
       "      <td>6</td>\n",
       "      <td>Home and kitchen</td>\n",
       "      <td>11</td>\n",
       "      <td>Bath</td>\n",
       "      <td>-1</td>\n",
       "      <td>-1450</td>\n",
       "      <td>152.250</td>\n",
       "      <td>-1602.250</td>\n",
       "      <td>e-Shop</td>\n",
       "      <td>33</td>\n",
       "    </tr>\n",
       "    <tr>\n",
       "      <th>9</th>\n",
       "      <td>50076728598</td>\n",
       "      <td>2014-02-21</td>\n",
       "      <td>269014</td>\n",
       "      <td>1979-11-27</td>\n",
       "      <td>F</td>\n",
       "      <td>3.0</td>\n",
       "      <td>3</td>\n",
       "      <td>Electronics</td>\n",
       "      <td>8</td>\n",
       "      <td>Personal Appliances</td>\n",
       "      <td>-4</td>\n",
       "      <td>-581</td>\n",
       "      <td>244.020</td>\n",
       "      <td>-2568.020</td>\n",
       "      <td>e-Shop</td>\n",
       "      <td>35</td>\n",
       "    </tr>\n",
       "  </tbody>\n",
       "</table>\n",
       "</div>"
      ],
      "text/plain": [
       "   transaction_id  tran_date  cust_id        DOB Gender  city_code  \\\n",
       "0     80712190438 2014-02-28   270351 1981-09-26      M        5.0   \n",
       "3     93274880719 2014-02-24   271509 1981-08-06      M        3.0   \n",
       "5     97439039119 2014-02-23   272357 1982-09-10      F        6.0   \n",
       "6     45649838090 2014-02-22   273667 1981-05-29      M        9.0   \n",
       "9     50076728598 2014-02-21   269014 1979-11-27      F        3.0   \n",
       "\n",
       "   prod_cat_code          prod_cat  prod_subcat_code          prod_subcat  \\\n",
       "0              1          Clothing                 1                Women   \n",
       "3              6  Home and kitchen                11                 Bath   \n",
       "5              3       Electronics                 8  Personal Appliances   \n",
       "6              6  Home and kitchen                11                 Bath   \n",
       "9              3       Electronics                 8  Personal Appliances   \n",
       "\n",
       "   Qty  Rate      Tax  total_amt Store_type  Age  \n",
       "0   -5  -772  405.300  -4265.300     e-Shop   33  \n",
       "3   -3 -1363  429.345  -4518.345     e-Shop   33  \n",
       "5   -2  -824  173.040  -1821.040   TeleShop   32  \n",
       "6   -1 -1450  152.250  -1602.250     e-Shop   33  \n",
       "9   -4  -581  244.020  -2568.020     e-Shop   35  "
      ]
     },
     "execution_count": 74,
     "metadata": {},
     "output_type": "execute_result"
    }
   ],
   "source": [
    "data['Age']=data['tran_date'].dt.year-data['DOB'].dt.year\n",
    "filtered_data=data[(data['Age']>=25) & (data['Age']<=35)] \n",
    "filtered_data.head()"
   ]
  },
  {
   "cell_type": "code",
   "execution_count": 77,
   "id": "d00a3c94-5b37-457a-814d-4a0677023af6",
   "metadata": {},
   "outputs": [
    {
     "name": "stdout",
     "output_type": "stream",
     "text": [
      "a. Total amount spent for “Electronics” and “Books” product categories are : 11219541.25₹\n"
     ]
    }
   ],
   "source": [
    "Elec_cloth_spend=filtered_data[filtered_data['prod_cat'].isin(['Electronics','Books'])]['total_amt'].sum()\n",
    "print(f'a. Total amount spent for “Electronics” and “Books” product categories are : {Elec_cloth_spend:.2f}₹')\n"
   ]
  },
  {
   "cell_type": "code",
   "execution_count": 78,
   "id": "6124671d-3e0f-4277-b6fe-e258c690263c",
   "metadata": {},
   "outputs": [
    {
     "name": "stdout",
     "output_type": "stream",
     "text": [
      "b. Total amount spent by these customers between 1st Jan, 2014 to 1st Mar, 2014 : 685698.91₹\n"
     ]
    }
   ],
   "source": [
    "jan_to_mar=filtered_data[(filtered_data['tran_date']>='2014-01-01') & (filtered_data['tran_date']<='2014-03-01')].total_amt.sum()\n",
    "print(f'b. Total amount spent by these customers between 1st Jan, 2014 to 1st Mar, 2014 : {jan_to_mar:.2f}₹')\n",
    "\n"
   ]
  },
  {
   "cell_type": "code",
   "execution_count": null,
   "id": "0cce1038-2c48-4bb0-bcfb-341c6101c40f",
   "metadata": {},
   "outputs": [],
   "source": []
  },
  {
   "cell_type": "code",
   "execution_count": null,
   "id": "3fc951c0-2f6b-4cce-960c-45281ef99e2b",
   "metadata": {},
   "outputs": [],
   "source": []
  },
  {
   "cell_type": "code",
   "execution_count": null,
   "id": "67e98054-34b5-4bec-af1f-6ef0e7fb6d5f",
   "metadata": {},
   "outputs": [],
   "source": []
  },
  {
   "cell_type": "code",
   "execution_count": null,
   "id": "e4f9deb5-db73-4b2b-91da-4f2d8054736d",
   "metadata": {},
   "outputs": [],
   "source": []
  },
  {
   "cell_type": "code",
   "execution_count": null,
   "id": "c894bb37-9282-4568-8ae1-13984101c769",
   "metadata": {},
   "outputs": [],
   "source": []
  },
  {
   "cell_type": "code",
   "execution_count": null,
   "id": "9ef98ae1-16c6-4fc3-9015-e215b6083cb3",
   "metadata": {},
   "outputs": [],
   "source": []
  },
  {
   "cell_type": "code",
   "execution_count": null,
   "id": "1d3458fd-ec7b-49c1-a48e-0f636e3471ab",
   "metadata": {},
   "outputs": [],
   "source": []
  },
  {
   "cell_type": "code",
   "execution_count": null,
   "id": "333ec2ba-f471-46a7-ba80-8eafdd5f6025",
   "metadata": {},
   "outputs": [],
   "source": []
  },
  {
   "cell_type": "code",
   "execution_count": null,
   "id": "c8dcaa8f-285f-4732-bc6d-2fcad82548ed",
   "metadata": {},
   "outputs": [],
   "source": []
  },
  {
   "cell_type": "code",
   "execution_count": null,
   "id": "77581376-1394-4b2b-91bd-70ad30e5f4e9",
   "metadata": {},
   "outputs": [],
   "source": []
  },
  {
   "cell_type": "code",
   "execution_count": null,
   "id": "ff471342-b50a-46fd-952a-58727ce2d882",
   "metadata": {},
   "outputs": [],
   "source": []
  },
  {
   "cell_type": "code",
   "execution_count": null,
   "id": "5779212e-91b3-4862-a5d3-230635880f8b",
   "metadata": {},
   "outputs": [],
   "source": []
  },
  {
   "cell_type": "code",
   "execution_count": null,
   "id": "4fbd976b-af7d-45b6-bb8e-b304cc6202c2",
   "metadata": {},
   "outputs": [],
   "source": []
  },
  {
   "cell_type": "code",
   "execution_count": null,
   "id": "b3749d6c-f7cb-4b20-b2f3-004443c8711e",
   "metadata": {},
   "outputs": [],
   "source": []
  },
  {
   "cell_type": "code",
   "execution_count": null,
   "id": "55dfafdf-892c-4460-8167-127f8e9d53dc",
   "metadata": {},
   "outputs": [],
   "source": []
  },
  {
   "cell_type": "code",
   "execution_count": null,
   "id": "4cf5b275-b892-4335-839e-d55eefd81fee",
   "metadata": {},
   "outputs": [],
   "source": []
  },
  {
   "cell_type": "code",
   "execution_count": null,
   "id": "ce02783e-ffb2-41db-ada1-02b84c143637",
   "metadata": {},
   "outputs": [],
   "source": []
  },
  {
   "cell_type": "code",
   "execution_count": null,
   "id": "120fb5cf-1039-4f75-a714-7193cc3aa2e5",
   "metadata": {},
   "outputs": [],
   "source": []
  }
 ],
 "metadata": {
  "kernelspec": {
   "display_name": "Python 3 (ipykernel)",
   "language": "python",
   "name": "python3"
  },
  "language_info": {
   "codemirror_mode": {
    "name": "ipython",
    "version": 3
   },
   "file_extension": ".py",
   "mimetype": "text/x-python",
   "name": "python",
   "nbconvert_exporter": "python",
   "pygments_lexer": "ipython3",
   "version": "3.12.4"
  }
 },
 "nbformat": 4,
 "nbformat_minor": 5
}
